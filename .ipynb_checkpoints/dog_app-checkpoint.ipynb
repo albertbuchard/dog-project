{
 "cells": [
  {
   "cell_type": "markdown",
   "metadata": {
    "deletable": true,
    "editable": true
   },
   "source": [
    "# Artificial Intelligence Nanodegree\n",
    "\n",
    "## Convolutional Neural Networks\n",
    "\n",
    "## Project: Write an Algorithm for a Dog Identification App \n",
    "\n",
    "---\n",
    "\n",
    "In this notebook, some template code has already been provided for you, and you will need to implement additional functionality to successfully complete this project. You will not need to modify the included code beyond what is requested. Sections that begin with **'(IMPLEMENTATION)'** in the header indicate that the following block of code will require additional functionality which you must provide. Instructions will be provided for each section, and the specifics of the implementation are marked in the code block with a 'TODO' statement. Please be sure to read the instructions carefully! \n",
    "\n",
    "> **Note**: Once you have completed all of the code implementations, you need to finalize your work by exporting the iPython Notebook as an HTML document. Before exporting the notebook to html, all of the code cells need to have been run so that reviewers can see the final implementation and output. You can then export the notebook by using the menu above and navigating to  \\n\",\n",
    "    \"**File -> Download as -> HTML (.html)**. Include the finished document along with this notebook as your submission.\n",
    "\n",
    "In addition to implementing code, there will be questions that you must answer which relate to the project and your implementation. Each section where you will answer a question is preceded by a **'Question X'** header. Carefully read each question and provide thorough answers in the following text boxes that begin with **'Answer:'**. Your project submission will be evaluated based on your answers to each of the questions and the implementation you provide.\n",
    "\n",
    ">**Note:** Code and Markdown cells can be executed using the **Shift + Enter** keyboard shortcut.  Markdown cells can be edited by double-clicking the cell to enter edit mode.\n",
    "\n",
    "The rubric contains _optional_ \"Stand Out Suggestions\" for enhancing the project beyond the minimum requirements. If you decide to pursue the \"Stand Out Suggestions\", you should include the code in this IPython notebook.\n",
    "\n",
    "\n",
    "\n",
    "---\n",
    "### Why We're Here \n",
    "\n",
    "In this notebook, you will make the first steps towards developing an algorithm that could be used as part of a mobile or web app.  At the end of this project, your code will accept any user-supplied image as input.  If a dog is detected in the image, it will provide an estimate of the dog's breed.  If a human is detected, it will provide an estimate of the dog breed that is most resembling.  The image below displays potential sample output of your finished project (... but we expect that each student's algorithm will behave differently!). \n",
    "\n",
    "![Sample Dog Output](images/sample_dog_output.png)\n",
    "\n",
    "In this real-world setting, you will need to piece together a series of models to perform different tasks; for instance, the algorithm that detects humans in an image will be different from the CNN that infers dog breed.  There are many points of possible failure, and no perfect algorithm exists.  Your imperfect solution will nonetheless create a fun user experience!\n",
    "\n",
    "### The Road Ahead\n",
    "\n",
    "We break the notebook into separate steps.  Feel free to use the links below to navigate the notebook.\n",
    "\n",
    "* [Step 0](#step0): Import Python Modules and Datasets\n",
    "* [Step 1](#step1): Detect Humans\n",
    "* [Step 2](#step2): Detect Dogs\n",
    "* [Step 3](#step3): Use a CNN to Classify Dog Breeds\n",
    "* [Step 4](#step4): Create a CNN to Classify Dog Breeds\n",
    "* [Step 5](#step5): Write your Algorithm\n",
    "* [Step 6](#step6): Test Your Algorithm\n",
    "\n",
    "---\n",
    "<a id='step0'></a>\n",
    "## Step 0: Import Python Modules and Datasets\n",
    "\n",
    "### Import Python Modules\n",
    "\n",
    "We begin by importing Python modules that will prove useful throughout the notebook."
   ]
  },
  {
   "cell_type": "code",
   "execution_count": null,
   "metadata": {
    "collapsed": true,
    "deletable": true,
    "editable": true
   },
   "outputs": [],
   "source": [
    "import cv2                                             # for detecting + segmenting human faces\n",
    "import h5py                                            # for loading pre-trained model files\n",
    "import matplotlib.pyplot as plt                        # make plots\n",
    "%matplotlib inline                               \n",
    "import numpy as np                                     # scientific computing\n",
    "import os                                              # extract file names and check if files exist\n",
    "import scipy                                           # bilinear upsampling\n",
    "from tqdm import tqdm                                  # time algorithms\n",
    "import ast                                             # importing imagenet classes dictionary\n",
    "from sklearn.model_selection import train_test_split   # for splitting data into train, test, validation sets\n",
    "from sklearn.datasets import load_files                # for importing dog dataset from directory structure\n",
    "from PIL import ImageFile                              # load big files\n",
    "ImageFile.LOAD_TRUNCATED_IMAGES = True                 # load big files\n",
    "import random\n",
    "\n",
    "from keras.applications.vgg16 import VGG16\n",
    "from keras.applications.resnet50 import ResNet50, preprocess_input, decode_predictions\n",
    "from keras.models import Model                         # construct new models\n",
    "from keras.preprocessing import image                  # import images in Keras\n",
    "from keras.layers import GlobalAveragePooling2D, Dense # for constructing model\n",
    "from keras.callbacks import ModelCheckpoint            # for model checkpointing"
   ]
  },
  {
   "cell_type": "markdown",
   "metadata": {
    "deletable": true,
    "editable": true
   },
   "source": [
    "### Import Dog Dataset\n",
    "\n",
    "In the code cell below, we import a dataset of dog images.  We populate a few variables through the use of the `load_files` function from the scikit-learn library:\n",
    "- `dog_filenames` - numpy array containing file paths to images\n",
    "- `dog_targets` - numpy array containing integer-valued classification labels of each of the images in `dog_filenames`\n",
    "- `dog_breed_names` - list of string-valued dog breed names for translating integer-valued labels\n",
    "\n",
    "Finally, we break `dog_filenames` into `dog_filenames_train`, `dog_filenames_test`, and `dog_filenames_validation`.  \n",
    "\n",
    "Each has corresponding `dog_targets_train`, `dog_targets_test`, and `dog_targets_validation`."
   ]
  },
  {
   "cell_type": "code",
   "execution_count": null,
   "metadata": {
    "collapsed": false,
    "deletable": true,
    "editable": true
   },
   "outputs": [],
   "source": [
    "######################\n",
    "# Import dog dataset #\n",
    "######################\n",
    "\n",
    "# dataset lives here: http://www.umiacs.umd.edu/~kanazawa/\n",
    "# start import with sklearn\n",
    "dog_dataset = load_files('dogImages')\n",
    "dog_filenames = np.array(dog_dataset['filenames'])\n",
    "dog_targets = np.array(dog_dataset['target'])\n",
    "dog_breed_names = dog_dataset['target_names']\n",
    "\n",
    "# remove all files that are not images\n",
    "bool_to_keep = np.array([filename.endswith('jpg') for filename in dog_filenames])\n",
    "dog_filenames = dog_filenames[bool_to_keep]\n",
    "dog_targets = dog_targets[bool_to_keep]\n",
    "\n",
    "print('There are %d total dog categories.' % len(np.unique(dog_targets)))\n",
    "print('There are %d total dog images.\\n' % len(dog_targets))\n",
    "\n",
    "# split dog dataset filenames into train, test, and validation\n",
    "dog_filenames_train, dog_filenames_test, dog_targets_train, dog_targets_test = train_test_split(dog_filenames, list(dog_targets), test_size=.2, \n",
    "                                                                                                stratify=list(dog_targets), random_state=8675309)\n",
    "dog_filenames_valid, dog_filenames_test, dog_targets_valid, dog_targets_test = train_test_split(dog_filenames_test, dog_targets_test, test_size=.5, \n",
    "                                                                                                stratify=dog_targets_test, random_state=8675309)\n",
    "print('There are %d training dog images.' % len(dog_filenames_train))\n",
    "print('There are %d validation dog images.' % len(dog_filenames_valid))\n",
    "print('There are %d test dog images.'% len(dog_filenames_test))"
   ]
  },
  {
   "cell_type": "markdown",
   "metadata": {
    "deletable": true,
    "editable": true
   },
   "source": [
    "### Import Human Dataset"
   ]
  },
  {
   "cell_type": "code",
   "execution_count": null,
   "metadata": {
    "collapsed": false,
    "deletable": true,
    "editable": true
   },
   "outputs": [],
   "source": [
    "##########################\n",
    "# Import human filenames #\n",
    "##########################\n",
    "\n",
    "human_dataset = load_files('lfw')\n",
    "human_filenames = np.array(human_dataset['filenames'])\n",
    "random.seed(8675309)\n",
    "random.shuffle(human_filenames)\n",
    "human_filenames = human_filenames[:8351]\n",
    "print('There are %d total human images.' % len(human_filenames))"
   ]
  },
  {
   "cell_type": "markdown",
   "metadata": {
    "deletable": true,
    "editable": true
   },
   "source": [
    "---\n",
    "<a id='step1'></a>\n",
    "## Step 1: Detect Humans\n",
    "\n",
    "We use OpenCV's implementation of [Haar feature-based cascade classifiers](http://docs.opencv.org/trunk/d7/d8b/tutorial_py_face_detection.html) to detect human faces in images.  OpenCV provides many pre-trained face detectors, stored as XML files on [github](https://github.com/opencv/opencv/tree/master/data/haarcascades).  We have downloaded one of these detectors and stored it in the `haarcascades` directory.\n",
    "\n",
    "In the next code cell, we demonstrate how to use this detector to find human faces in a sample image."
   ]
  },
  {
   "cell_type": "code",
   "execution_count": null,
   "metadata": {
    "collapsed": false,
    "deletable": true,
    "editable": true
   },
   "outputs": [],
   "source": [
    "# extract pre-trained face detector\n",
    "face_cascade = cv2.CascadeClassifier('haarcascades/haarcascade_frontalface_alt.xml')\n",
    "\n",
    "# load color (BGR) image\n",
    "img = cv2.imread(human_filenames[0])\n",
    "# convert BGR image to grayscale\n",
    "gray = cv2.cvtColor(img, cv2.COLOR_BGR2GRAY)\n",
    "\n",
    "# find faces in image\n",
    "faces = face_cascade.detectMultiScale(gray)\n",
    "\n",
    "# print number of faces detected in the image\n",
    "print('Number of faces detected:', len(faces))\n",
    "\n",
    "# get bounding box for each detected face\n",
    "for (x,y,w,h) in faces:\n",
    "    # add bounding box to color image\n",
    "    cv2.rectangle(img,(x,y),(x+w,y+h),(255,0,0),2)\n",
    "    \n",
    "# convert BGR image to RGB for plotting\n",
    "cv_rgb = cv2.cvtColor(img, cv2.COLOR_BGR2RGB)\n",
    "\n",
    "# display the image, along with bounding box\n",
    "plt.imshow(cv_rgb)\n",
    "plt.show()"
   ]
  },
  {
   "cell_type": "markdown",
   "metadata": {
    "deletable": true,
    "editable": true
   },
   "source": [
    "Before using any of the face detectors, it is standard procedure to convert the images to grayscale.  The `detectMultiScale` function executes the classifier stored in `face_cascade` and takes the grayscale image as a parameter.  \n",
    "\n",
    "In the above code, `faces` is a numpy array of detected faces, where each row corresponds to a detected face.  Each detected face is a 1D array with four entries that specifies the bounding box of the detected face.  The first two entries in the array (extracted in the above code as `x` and `y`) specify the horizontal and vertical positions of the top left corner of the bounding box.  The last two entries in the array (extracted here as `w` and `h`) specify the width and height of the box.\n",
    "\n",
    "### (IMPLEMENTATION) Assess the Human Face Detector\n",
    "\n",
    "We can use this procedure to write a function that returns `True` if a human face is detected in an image and `False` otherwise.  This function, aptly named `face_detector`, takes a string-valued file path to an image as input and appears in the code block below."
   ]
  },
  {
   "cell_type": "code",
   "execution_count": null,
   "metadata": {
    "collapsed": true,
    "deletable": true,
    "editable": true
   },
   "outputs": [],
   "source": [
    "# returns \"True\" if face is detected in image stored at img_path\n",
    "def face_detector(img_path):\n",
    "    img = cv2.imread(img_path)\n",
    "    gray = cv2.cvtColor(img, cv2.COLOR_BGR2GRAY)\n",
    "    faces = face_cascade.detectMultiScale(gray)\n",
    "    return len(faces) > 0"
   ]
  },
  {
   "cell_type": "markdown",
   "metadata": {
    "deletable": true,
    "editable": true
   },
   "source": [
    "__Question 1:__ Use the code cell below to test the performance of the `face_detector` function.  \n",
    "- What percentage of the first 100 images in `human_filenames` have a detected human face?  Round your answer to two decimal places. \n",
    "- What percentage of the first 100 images in `dog_filenames` have a detected human face?  Round your answer to two decimal places.\n",
    "\n",
    "Ideally, we would like 100% of human images with a detected face and 0% of dog images with a detected face.  You will see that our algorithm falls short of this goal, but still gives acceptable performance.  We extract the file paths for the first 100 images from each of the datasets and store them in the numpy arrays `human_filenames_short` and `dog_filenames_short`.\n",
    "\n",
    "__Answer:__ "
   ]
  },
  {
   "cell_type": "code",
   "execution_count": null,
   "metadata": {
    "collapsed": false,
    "deletable": true,
    "editable": true
   },
   "outputs": [],
   "source": [
    "human_filenames_short = human_filenames[:100]\n",
    "dog_filenames_short = dog_filenames[:100]\n",
    "\n",
    "## TODO: Test the performance of the face_detector algorithm \n",
    "## on the images in human_filenames_short and dog_filenames_short"
   ]
  },
  {
   "cell_type": "markdown",
   "metadata": {
    "deletable": true,
    "editable": true
   },
   "source": [
    "We suggest the face detector from OpenCV as a potential way to detect human images in your algorithm, but you are free to explore other approaches, especially approaches that make use of deep learning :).  \n",
    "\n",
    "__Question 2:__ This algorithmic choice necessitates that we communicate to the customer that we accept human images only when they provide a clear view of a face (otherwise, we risk having unneccessarily frustrated users!). In your opinion, is this a reasonable expectation to pose on the user? If not, can you think of a way to detect humans in images that does not necessitate an image with a clearly presented face?\n",
    "\n",
    "__Answer:__\n",
    "\n",
    "Feel free to also use the code cell below to design and test your own face detection algorithm.  If you decide to pursue this _optional_ task, report performance on each of the datasets."
   ]
  },
  {
   "cell_type": "code",
   "execution_count": null,
   "metadata": {
    "collapsed": true,
    "deletable": true,
    "editable": true
   },
   "outputs": [],
   "source": [
    "## (Optional) TODO: Report the performance of another  \n",
    "## face detection algorithm on the LFW dataset"
   ]
  },
  {
   "cell_type": "markdown",
   "metadata": {
    "deletable": true,
    "editable": true
   },
   "source": [
    "---\n",
    "<a id='step2'></a>\n",
    "## Step 2: Detect Dogs\n",
    "\n",
    "In this section, we use a pre-trained [ResNet-50](http://ethereon.github.io/netscope/#/gist/db945b393d40bfa26006) model to detect dogs in images.  Our first line of code downloads the ResNet-50 model, along with weights that have been trained on [ImageNet](http://www.image-net.org/), a very large, very popular dataset used for image classification and other vision tasks.  ImageNet contains over 10 million URLs, each linking to an image containing an object from one of [1000 categories](https://gist.github.com/yrevar/942d3a0ac09ec9e5eb3a).  Given an image, this pre-trained ResNet-50 model returns a prediction (derived from the available categories in ImageNet) for the object that is contained in the image."
   ]
  },
  {
   "cell_type": "code",
   "execution_count": null,
   "metadata": {
    "collapsed": false,
    "deletable": true,
    "editable": true
   },
   "outputs": [],
   "source": [
    "# define ResNet50 model\n",
    "ResNet50_model = ResNet50(weights='imagenet')"
   ]
  },
  {
   "cell_type": "markdown",
   "metadata": {
    "deletable": true,
    "editable": true
   },
   "source": [
    "### Pre-process the Data\n",
    "\n",
    "Recall that when using TensorFlow as backend, Keras CNNs for image classification require a 4D tensor as input, with dimensions\n",
    "\n",
    "$$\n",
    "(\\text{nb_samples}, \\text{rows}, \\text{columns}, \\text{channels}),\n",
    "$$\n",
    "\n",
    "where `nb_samples` corresponds to the total number of images (or samples), and `rows`, `columns`, and `channels` correspond to the number of rows, columns, and channels for each image, respectively.  \n",
    "\n",
    "The `path_to_tensor` function below takes a file path to a color image as input and returns a 4D tensor suitable for supplying to a Keras CNN.  The function first loads the image and resizes it to a square image that is $224 \\times 224$ pixels.  Next, the image is converted to an array, which is then resized to a 4D tensor.  In this case, since we are working with color images, each image has three channels.  Likewise, since we are processing a single image (or sample), the returned tensor will always have shape\n",
    "\n",
    "$$\n",
    "(1, 224, 224, 3).\n",
    "$$"
   ]
  },
  {
   "cell_type": "code",
   "execution_count": null,
   "metadata": {
    "collapsed": false,
    "deletable": true,
    "editable": true
   },
   "outputs": [],
   "source": [
    "def path_to_tensor(img_path):\n",
    "    # loads RGB image as PIL.Image.Image type\n",
    "    img = image.load_img(img_path, target_size=(224, 224))\n",
    "    # convert PIL.Image.Image type to 3D tensor with shape (224, 224, 3)\n",
    "    x = image.img_to_array(img)\n",
    "    # convert 3D tensor to 4D tensor with shape (1, 224, 224, 3) and return 4D tensor\n",
    "    return np.expand_dims(x, axis=0)"
   ]
  },
  {
   "cell_type": "markdown",
   "metadata": {
    "deletable": true,
    "editable": true
   },
   "source": [
    "Getting the 4D tensor ready for ResNet-50, and for any other pre-trained model in Keras, requires some additional processing.  First, the RGB image is converted to BGR by reordering the channels.  All pre-trained models have the additional normalization step that the mean pixel (expressed in RGB as $[103.939, 116.779, 123.68]$ and calculated from all pixels in all images in ImageNet) must be subtracted from every pixel in each image.  This is implemented in the imported function `preprocess_input`.  If you're curious, you can check the code for `preprocess_input` [here](https://github.com/fchollet/keras/blob/master/keras/applications/imagenet_utils.py).\n",
    "\n",
    "We __repeat and emphasize__ that when using any pre-trained model in Keras, whether for transfer learning or for utilizing the model to generate predictions without retraining the weights, it is necessary to first process the image along the lines of the `pretrained_path_to_tensor` function below.  That is, if you are using a pre-trained model, please import the images from their paths using this function. \n",
    "\n",
    "However, if you are constructing a CNN _from scratch_, it is strongly encouraged that you instead use the `path_to_tensor` function."
   ]
  },
  {
   "cell_type": "code",
   "execution_count": null,
   "metadata": {
    "collapsed": true,
    "deletable": true,
    "editable": true
   },
   "outputs": [],
   "source": [
    "def pretrained_path_to_tensor(img_path):\n",
    "    # convert to Keras-friendly, 4D tensor \n",
    "    img = path_to_tensor(img_path)\n",
    "    # convert RGB -> BGR, subtract mean ImageNet pixel, and return 4D tensor\n",
    "    return preprocess_input(img)"
   ]
  },
  {
   "cell_type": "markdown",
   "metadata": {
    "deletable": true,
    "editable": true
   },
   "source": [
    "### Making Predictions with ResNet-50\n",
    "\n",
    "Now that we have a way to format our image for supplying to ResNet-50, we are now ready to use the model to extract the predictions.  This is accomplished with the `predict` method, which returns an array whose $i$-th entry is the model's predicted probability that the image belongs to the $i$-th ImageNet category.  This is implemented in the `ResNet50_predict_labels` function below.\n",
    "\n",
    "By taking the argmax of the predicted probability vector, we obtain an integer corresponding to the model's predicted object class, which we can identify with an object category through the use of this [dictionary](https://gist.github.com/yrevar/942d3a0ac09ec9e5eb3a).  \n",
    "\n",
    "While looking at the dictionary, you will notice that the categories corresponding to dogs appear in an uninterrupted sequence and correspond to dictionary keys 151-268, inclusive, to include all categories from `'Chihuahua'` to `'Mexican hairless'`.  Thus, in order to check to see if an image is predicted to contain a dog by a model that has been trained on ImageNet, we need only check if the function above returns a value between 151 and 268 (inclusive).\n",
    "\n",
    "We use this procedure to write the `dog_detector` function below, which returns `True` if a dog is detected in an image (and `False` if not)."
   ]
  },
  {
   "cell_type": "code",
   "execution_count": null,
   "metadata": {
    "collapsed": false,
    "deletable": true,
    "editable": true
   },
   "outputs": [],
   "source": [
    "def ResNet50_predict_labels(img_path):\n",
    "    # returns prediction vector for image located at img_path\n",
    "    img = pretrained_path_to_tensor(img_path)\n",
    "    return np.argmax(ResNet50_model.predict(img))\n",
    "\n",
    "def dog_detector(img_path):\n",
    "    # returns \"True\" if dog is detected in image stored at img_path\n",
    "    prediction = ResNet50_predict_labels(img_path)\n",
    "    return ((prediction <= 268) & (prediction >= 151)) "
   ]
  },
  {
   "cell_type": "markdown",
   "metadata": {
    "deletable": true,
    "editable": true
   },
   "source": [
    "__Question 3:__ Use the code cell below to test the performance of the `dog_detector` function.  \n",
    "- What percentage of the first 100 images in `human_filenames` have a detected dog?  \n",
    "- What percentage of the first 100 images in `dog_filenames` have a detected dog?\n",
    "\n",
    "__Answer:__ "
   ]
  },
  {
   "cell_type": "code",
   "execution_count": null,
   "metadata": {
    "collapsed": false,
    "deletable": true,
    "editable": true
   },
   "outputs": [],
   "source": [
    "## TODO: Test the performance of the dog_detector algorithm \n",
    "## on the images in human_filenames and dog_filenames"
   ]
  },
  {
   "cell_type": "markdown",
   "metadata": {
    "deletable": true,
    "editable": true
   },
   "source": [
    "---\n",
    "<a id='step3'></a>\n",
    "## Step 3: Pre-Implemented CNN to Classify Dog Breeds\n",
    "\n",
    "We now will train a CNN to identify dog breed in the images stored in `dog_filenames`.  To reduce training time without sacrificing accuracy, we adopt a transfer learning approach.\n",
    "\n",
    "### Pre-process the Data\n",
    "\n",
    "First, we prepare the dataset for Keras.  In the code block below, we populate a few new variables:\n",
    "- `dog_images_train`, `dog_images_valid`, and `dog_images_test` numpy arrays corresponding to train, validation, and test dog images for the breed classification task.  They have been formatted for supplying to a pre-trained Keras model.\n",
    "- `dog_targets_train_OH`, `dog_targets_valid_OH`, and `dog_targets_test_OH` are numpy arrays containing the onehot-encoded versions of the labels that correspond to `dog_images_train`, `dog_images_valid`, and `dog_images_test`, respectively.\n",
    "\n",
    "We note that `pretrained_paths_to_tensor` is a short adaptation of `pretrained_path_to_tensor`; whereas `pretrained_path_to_tensor` took a string-valued image path as input and returned a 4D tensor with shape `(1, 224, 224, 3)`, `pretrained_paths_to_tensor` takes a numpy array of string-valued image paths as input and returns a 4D tensor with shape `(nb_samples, 224, 224, 3)`.  Here, `nb_samples` is the number of samples, or number of images, in the supplied array of image paths."
   ]
  },
  {
   "cell_type": "code",
   "execution_count": null,
   "metadata": {
    "collapsed": false,
    "deletable": true,
    "editable": true
   },
   "outputs": [],
   "source": [
    "def pretrained_paths_to_tensor(img_paths):\n",
    "    list_of_tensors = [pretrained_path_to_tensor(img_path) for img_path in tqdm(img_paths)]\n",
    "    return np.vstack(list_of_tensors)\n",
    "\n",
    "# process images for supplying to pre-trained Keras model\n",
    "dog_images_train = pretrained_paths_to_tensor(dog_filenames_train)\n",
    "dog_images_valid = pretrained_paths_to_tensor(dog_filenames_valid)\n",
    "dog_images_test = pretrained_paths_to_tensor(dog_filenames_test)\n",
    "\n",
    "# onehot encoding of dog breed labels\n",
    "dog_targets_train_OH = np.eye(len(np.unique(dog_targets_train)))[dog_targets_train]\n",
    "dog_targets_test_OH = np.eye(len(np.unique(dog_targets_test)))[dog_targets_test]\n",
    "dog_targets_valid_OH = np.eye(len(np.unique(dog_targets_valid)))[dog_targets_valid]"
   ]
  },
  {
   "cell_type": "markdown",
   "metadata": {
    "deletable": true,
    "editable": true
   },
   "source": [
    "### Model Architecture\n",
    "\n",
    "The model uses the the pre-trained VGG-16 model as a fixed feature extractor, where the last convolutional output of VGG-16 is fed as input to our model.  We only add a global average pooling layer and a fully connected layer, where the latter contains one node for each dog category and is equipped with a softmax."
   ]
  },
  {
   "cell_type": "code",
   "execution_count": null,
   "metadata": {
    "collapsed": false,
    "deletable": true,
    "editable": true
   },
   "outputs": [],
   "source": [
    "# define model we will use to predict dog breed\n",
    "vgg16_model = VGG16(weights='imagenet', include_top=False)\n",
    "x = vgg16_model.layers[-2].output\n",
    "x = GlobalAveragePooling2D()(x)\n",
    "predictions = Dense(133, activation='softmax')(x)\n",
    "vgg16_transfer_model = Model(inputs=vgg16_model.input, outputs=predictions)\n",
    "\n",
    "# freeze VGG-16 layers\n",
    "for layer in vgg16_model.layers:\n",
    "    layer.trainable = False\n",
    "\n",
    "# print model architecture\n",
    "vgg16_transfer_model.summary()"
   ]
  },
  {
   "cell_type": "markdown",
   "metadata": {
    "deletable": true,
    "editable": true
   },
   "source": [
    "### Train and Validate the Model\n",
    "\n",
    "We have already trained the CNN in `vgg16_transfer_model` using the training and validation dog images through the use of the code below:\n",
    "\n",
    "```\n",
    "    # define optimizer and loss function\n",
    "    vgg16_transfer_model.compile(optimizer='rmsprop', loss='categorical_crossentropy')\n",
    "    # train the model \n",
    "    checkpointer = ModelCheckpoint(filepath='support_files/weights.best.hdf5', verbose=1, save_best_only=True)\n",
    "    vgg16_transfer_model.fit(dog_images_train, dog_targets_train_OH, \n",
    "                             validation_data=(dog_images_valid, dog_targets_valid_OH), \n",
    "                             epochs=2, batch_size=20, callbacks=[checkpointer], verbose=1)\n",
    "\n",
    "```\n",
    "\n",
    "To save time, we load pre-trained weights in the next code cell."
   ]
  },
  {
   "cell_type": "code",
   "execution_count": null,
   "metadata": {
    "collapsed": false,
    "deletable": true,
    "editable": true
   },
   "outputs": [],
   "source": [
    "vgg16_transfer_model.load_weights('support_files/weights.best.hdf5')"
   ]
  },
  {
   "cell_type": "markdown",
   "metadata": {
    "deletable": true,
    "editable": true
   },
   "source": [
    "### Test the Model\n",
    "\n",
    "Now, we can use the CNN in `vgg_16_breed_model` to test how well it identifies breed within our test dataset of dog images.  We print the test accuracy below."
   ]
  },
  {
   "cell_type": "code",
   "execution_count": null,
   "metadata": {
    "collapsed": false,
    "deletable": true,
    "editable": true
   },
   "outputs": [],
   "source": [
    "# Use model to predict dog breed in image at img_path\n",
    "def vgg16_predict_label(img_path):\n",
    "    return np.argmax(vgg16_transfer_model.predict(pretrained_path_to_tensor(img_path)))\n",
    "\n",
    "# get predicted dog breed for each image in test set\n",
    "dog_breed_predictions = [vgg16_predict_label(path) for path in tqdm(dog_filenames_test)]\n",
    "\n",
    "# report test accuracy\n",
    "test_accuracy = 100*np.sum(np.array(dog_breed_predictions)==np.array(dog_targets_test))/len(dog_breed_predictions)\n",
    "print('Test accuracy: %.4f%%' % test_accuracy)"
   ]
  },
  {
   "cell_type": "markdown",
   "metadata": {
    "deletable": true,
    "editable": true
   },
   "source": [
    "---\n",
    "<a id='step4'></a>\n",
    "## Step 4: Create a CNN to Classify Dog Breeds\n",
    "\n",
    "Create a CNN that classifies dog breeds.  You may either create your own CNN from scratch or use transfer learning.  Your CNN must satisfy the following __requirements__:\n",
    "- Your CNN architecture cannot be identical to the model from Step 3.\n",
    "- You must utilize the predetermined train, validation, and test splits.\n",
    "- Your CNN must beat the test accuracy of the model from Step 3.\n",
    "\n",
    "Be careful with adding too many trainable layers!  More parameters means longer training, which means you are more likely to need a GPU to accelerate the training process.  Thankfully, Keras provides a handy estimate of the time that each epoch is likely to take; you can extrapolate this estimate to figure out how long it will take for your algorithm to train.  If you would like to use transfer learning, you are encouraged to explore the [other pre-trained models](https://keras.io/applications/) that exist in Keras.\n",
    "\n",
    "For the sake of full disclosure, we mention that the task of assigning breed to dogs from images is considered exceptionally challenging.  To see why, consider that *even a human* would have great difficulty in distinguishing between a Brittany and a Welsh Springer Spaniel.  \n",
    "\n",
    "Brittany | Welsh Springer Spaniel\n",
    "- | - \n",
    "<img src=\"dogImages/037.Brittany/Brittany_02625.jpg\" width=\"100\"> | <img src=\"dogImages/130.Welsh_springer_spaniel/Welsh_springer_spaniel_08203.jpg\" width=\"200\">\n",
    "\n",
    "It is not difficult to find other dog breed pairs with minimal inter-class variation (for instance, Curly-Coated Retrievers and American Water Spaniels).  \n",
    "\n",
    "Curly-Coated Retriever | American Water Spaniel\n",
    "- | -\n",
    "<img src=\"dogImages/055.Curly-coated_retriever/Curly-coated_retriever_03896.jpg\" width=\"200\"> | <img src=\"dogImages/009.American_water_spaniel/American_water_spaniel_00648.jpg\" width=\"200\">\n",
    "\n",
    "\n",
    "Likewise, recall that labradors come in yellow, chocolate, and black.  Your vision-based algorithm will have to conquer this high intra-class variation to determine how to classify all of these different shades as the same breed.  \n",
    "\n",
    "Yellow Labrador | Chocolate Labrador | Black Labrador\n",
    "- | -\n",
    "<img src=\"dogImages/096.Labrador_retriever/Labrador_retriever_06457.jpg\" width=\"150\"> | <img src=\"dogImages/096.Labrador_retriever/Labrador_retriever_06455.jpg\" width=\"240\"> | <img src=\"dogImages/096.Labrador_retriever/Labrador_retriever_06449.jpg\" width=\"220\">\n",
    "\n",
    "We also mention that random chance presents an exceptionally low bar: setting aside the fact that the classes are slightly imabalanced, a random guess will provide a correct answer roughly 1 in 133 times, which corresponds to an accuracy of less than 1%.  Although you can't expect the same high accuracies (>95%) on the datasets that we've seen in the lessons, you should rest assured that the state-of-the-art algorithms also haven't gotten there yet with dog breed datasets ... or bird species datasets, for that matter!  \n",
    "\n",
    "Note that you may need to import more Python modules (... and you will certainly need to, if you decide to train your own model from scratch!).  Feel free to import as many Python modules as you need.\n",
    "\n",
    "Remember that the practice is far ahead of the theory in deep learning.  Experiment with many different architectures, and trust your intuition.  And, of course, have fun! \n",
    "\n",
    "\n",
    "### (IMPLEMENTATION) Pre-process the Data\n",
    "\n",
    "If you choose to use transfer learning, we already prepared the data for you in Step 3 of this notebook.  If you choose to train a CNN from scratch, you will have to write your own processing step that makes use of `path_to_tensor` instead of `pretrained_path_to_tensor`.\n",
    "\n",
    "You are welcome to rewrite the pre-processing step, if you would like to [augment the training data](https://blog.keras.io/building-powerful-image-classification-models-using-very-little-data.html) (but this is not a requirement).  "
   ]
  },
  {
   "cell_type": "code",
   "execution_count": null,
   "metadata": {
    "collapsed": false,
    "deletable": true,
    "editable": true
   },
   "outputs": [],
   "source": [
    "### (Optional) TODO: Rewrite pre-processing step if training CNN from scratch.\n",
    "### (Optional) TODO: Augment training data."
   ]
  },
  {
   "cell_type": "markdown",
   "metadata": {
    "deletable": true,
    "editable": true
   },
   "source": [
    "### (IMPLEMENTATION) Model Architecture\n",
    "\n",
    "Create a CNN to classify dog breed.  At the end of your code cell block, summarize the layers of your model as in Step 3 above, by executing the line:\n",
    "    \n",
    "        <your model's name>.summary()\n",
    "   \n",
    "__Question 4:__ Outline the steps you took to get to your final CNN architecture and your reasoning at each step. Perhaps your solution involved an already well-known implementation or architecture. In this case, describe why you think the architecture is suitable for the current problem.\n",
    "\n",
    "__Answer:__ "
   ]
  },
  {
   "cell_type": "code",
   "execution_count": null,
   "metadata": {
    "collapsed": false,
    "deletable": true,
    "editable": true
   },
   "outputs": [],
   "source": [
    "### TODO: Define your architecture."
   ]
  },
  {
   "cell_type": "markdown",
   "metadata": {
    "deletable": true,
    "editable": true
   },
   "source": [
    "### (IMPLEMENTATION) Train and Validate the Model\n",
    "\n",
    "Train and validate your model in the code cell below.\n",
    "\n",
    "__Question 5:__ Describe how your CNN was trained by detailing the chosen optimizer, batch size, and number of epochs.  \n",
    "\n",
    "__Answer:__ "
   ]
  },
  {
   "cell_type": "code",
   "execution_count": null,
   "metadata": {
    "collapsed": false,
    "deletable": true,
    "editable": true
   },
   "outputs": [],
   "source": [
    "### TODO: Train and validate your model."
   ]
  },
  {
   "cell_type": "markdown",
   "metadata": {
    "deletable": true,
    "editable": true
   },
   "source": [
    "### (IMPLEMENTATION) Test the Model\n",
    "\n",
    "Try out your model on the test dataset of dog images.  Ensure that your test accuracy beats the test accuracy of the model in Step 3."
   ]
  },
  {
   "cell_type": "code",
   "execution_count": null,
   "metadata": {
    "collapsed": false,
    "deletable": true,
    "editable": true
   },
   "outputs": [],
   "source": [
    "### TODO: Once a final model architecture is selected, \n",
    "### the accuracy on the test set should be calculated and reported."
   ]
  },
  {
   "cell_type": "markdown",
   "metadata": {
    "deletable": true,
    "editable": true
   },
   "source": [
    "### (IMPLEMENTATION) Predict Dog Breed with the Model\n",
    "\n",
    "Write a function that takes an image path as input and returns the dog breed that is predicted by your model.  You will need to use the `dog_breed_names` array defined in Step 0 of this notebook."
   ]
  },
  {
   "cell_type": "code",
   "execution_count": null,
   "metadata": {
    "collapsed": true,
    "deletable": true,
    "editable": true
   },
   "outputs": [],
   "source": [
    "### TODO: Write a function that takes a path to an image as input\n",
    "### and returns the dog breed that is predicted by the model."
   ]
  },
  {
   "cell_type": "markdown",
   "metadata": {
    "deletable": true,
    "editable": true
   },
   "source": [
    "---\n",
    "<a id='step5'></a>\n",
    "## Step 5: Write your Algorithm\n",
    "\n",
    "Write an algorithm that accepts a file path to an image and first determines whether the image contains a human, dog, or neither.  Then,\n",
    "- if a __dog__ is detected in the image, return the predicted breed.\n",
    "- if a __human__ is detected in the image, return the resembling dog breed.\n",
    "- if __neither__ is detected in the image, provide output that indicates an error.\n",
    "\n",
    "You are welcome to write your own functions for detecting humans and dogs in images, but feel free to use the `face_detector` and `human_detector` functions developed above.  You are __required__ to use your CNN from Step 5 to predict dog breed.  \n",
    "\n",
    "Some sample output for our algorithm is provided below, but feel free to design your own user experience!\n",
    "\n",
    "![Sample Human Output](images/sample_human_output.png)\n",
    "\n",
    "\n",
    "### (IMPLEMENTATION) Write your Algorithm"
   ]
  },
  {
   "cell_type": "code",
   "execution_count": null,
   "metadata": {
    "collapsed": true,
    "deletable": true,
    "editable": true
   },
   "outputs": [],
   "source": [
    "### TODO: Write your algorithm.\n",
    "### Feel free to use as many code cells as needed."
   ]
  },
  {
   "cell_type": "markdown",
   "metadata": {
    "deletable": true,
    "editable": true
   },
   "source": [
    "---\n",
    "<a id='step6'></a>\n",
    "## Step 6: Test Your Algorithm\n",
    "\n",
    "In this section, you will take your new algorithm for a spin!  What kind of dog does the algorithm think that __you__ look like?  If you have a dog, does it predict your dog's breed accurately?  If you have a cat, does it mistakenly think that your cat is a dog?\n",
    "\n",
    "### (IMPLEMENTATION) Test Your Algorithm on Sample Images!\n",
    "\n",
    "Test your algorithm at least six images on your computer.  Feel free to use any images you like.  Use at least two human and two dog images.  \n",
    "\n",
    "__Question 6:__ Is the output better than you expected :) ?  Or worse :( ?  Provide at least three possible points of improvement for your algorithm.\n",
    "\n",
    "__Answer:__ "
   ]
  },
  {
   "cell_type": "code",
   "execution_count": null,
   "metadata": {
    "collapsed": false,
    "deletable": true,
    "editable": true
   },
   "outputs": [],
   "source": [
    "## TODO: Execute run_app('path/to/my_image') for \n",
    "## at least 6 images on your computer \n",
    "## (but not from the supplied datasets)\n",
    "## Feel free to use as many code cells as needed."
   ]
  }
 ],
 "metadata": {
  "anaconda-cloud": {},
  "kernelspec": {
   "display_name": "Python 3",
   "language": "python",
   "name": "python3"
  },
  "language_info": {
   "codemirror_mode": {
    "name": "ipython",
    "version": 3
   },
   "file_extension": ".py",
   "mimetype": "text/x-python",
   "name": "python",
   "nbconvert_exporter": "python",
   "pygments_lexer": "ipython3",
   "version": "3.5.3"
  }
 },
 "nbformat": 4,
 "nbformat_minor": 1
}
